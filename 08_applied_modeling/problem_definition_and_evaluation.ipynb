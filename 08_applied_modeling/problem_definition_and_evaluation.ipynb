{
 "cells": [
  {
   "cell_type": "markdown",
   "id": "e22048f3",
   "metadata": {},
   "source": [
    "# Applied Modeling: Problem Definition, Evaluation Metrics\n",
    "In this notebook, we cover:\n",
    "- Structuring machine learning problems\n",
    "- Choosing evaluation metrics for classification and regression tasks"
   ]
  },
  {
   "cell_type": "code",
   "execution_count": 2,
   "id": "76eec2d5",
   "metadata": {},
   "outputs": [],
   "source": [
    "# Import libraries\n",
    "import numpy as np\n",
    "import pandas as pd\n",
    "from sklearn.datasets import make_classification, make_regression\n",
    "from sklearn.model_selection import train_test_split\n",
    "from sklearn.linear_model import LogisticRegression, LinearRegression\n",
    "from sklearn.metrics import accuracy_score, precision_score, recall_score, f1_score, confusion_matrix, mean_absolute_error, mean_squared_error, r2_score"
   ]
  },
  {
   "cell_type": "markdown",
   "id": "58e698cd",
   "metadata": {},
   "source": [
    "## Classification Problem"
   ]
  },
  {
   "cell_type": "code",
   "execution_count": 3,
   "id": "5e35449d",
   "metadata": {},
   "outputs": [],
   "source": [
    "# Simulate classification data\n",
    "X_cls, y_cls = make_classification(n_samples=300, n_features=5, random_state=42)\n",
    "X_train, X_test, y_train, y_test = train_test_split(X_cls, y_cls, test_size=0.25, random_state=42)\n",
    "clf = LogisticRegression(max_iter=1000)\n",
    "clf.fit(X_train, y_train)\n",
    "y_pred = clf.predict(X_test)"
   ]
  },
  {
   "cell_type": "code",
   "execution_count": 4,
   "id": "bb491cea",
   "metadata": {},
   "outputs": [
    {
     "name": "stdout",
     "output_type": "stream",
     "text": [
      "Accuracy: 0.9866666666666667\n",
      "Precision: 1.0\n",
      "Recall: 0.9761904761904762\n",
      "F1 Score: 0.9879518072289156\n",
      "Confusion Matrix:\n",
      " [[33  0]\n",
      " [ 1 41]]\n"
     ]
    }
   ],
   "source": [
    "# Evaluate classification model\n",
    "print('Accuracy:', accuracy_score(y_test, y_pred))\n",
    "print('Precision:', precision_score(y_test, y_pred))\n",
    "print('Recall:', recall_score(y_test, y_pred))\n",
    "print('F1 Score:', f1_score(y_test, y_pred))\n",
    "print('Confusion Matrix:\\n', confusion_matrix(y_test, y_pred))"
   ]
  },
  {
   "cell_type": "markdown",
   "id": "e191fd74",
   "metadata": {},
   "source": [
    "## Regression Problem"
   ]
  },
  {
   "cell_type": "code",
   "execution_count": 5,
   "id": "23ed6466",
   "metadata": {},
   "outputs": [],
   "source": [
    "# Simulate regression data\n",
    "X_reg, y_reg = make_regression(n_samples=300, n_features=5, noise=10, random_state=42)\n",
    "X_train, X_test, y_train, y_test = train_test_split(X_reg, y_reg, test_size=0.25, random_state=42)\n",
    "reg = LinearRegression()\n",
    "reg.fit(X_train, y_train)\n",
    "y_pred = reg.predict(X_test)"
   ]
  },
  {
   "cell_type": "code",
   "execution_count": 6,
   "id": "3a91b25a",
   "metadata": {},
   "outputs": [
    {
     "name": "stdout",
     "output_type": "stream",
     "text": [
      "Mean Absolute Error: 7.359747940435262\n",
      "Mean Squared Error: 93.2694359258009\n",
      "Root Mean Squared Error: 9.657610259572547\n",
      "R-squared: 0.9918814354436036\n"
     ]
    }
   ],
   "source": [
    "# Evaluate regression model\n",
    "print('Mean Absolute Error:', mean_absolute_error(y_test, y_pred))\n",
    "print('Mean Squared Error:', mean_squared_error(y_test, y_pred))\n",
    "print('Root Mean Squared Error:', np.sqrt(mean_squared_error(y_test, y_pred)))\n",
    "print('R-squared:', r2_score(y_test, y_pred))"
   ]
  },
  {
   "cell_type": "markdown",
   "id": "3bfa74f0",
   "metadata": {},
   "source": [
    "## Summary\n",
    "- Clearly define whether the problem is classification or regression\n",
    "- Match metrics to problem type\n",
    "- Always validate your models with hold-out or cross-validation techniques"
   ]
  }
 ],
 "metadata": {
  "kernelspec": {
   "display_name": "ds_journey_env",
   "language": "python",
   "name": "python3"
  },
  "language_info": {
   "codemirror_mode": {
    "name": "ipython",
    "version": 3
   },
   "file_extension": ".py",
   "mimetype": "text/x-python",
   "name": "python",
   "nbconvert_exporter": "python",
   "pygments_lexer": "ipython3",
   "version": "3.12.0"
  }
 },
 "nbformat": 4,
 "nbformat_minor": 5
}
