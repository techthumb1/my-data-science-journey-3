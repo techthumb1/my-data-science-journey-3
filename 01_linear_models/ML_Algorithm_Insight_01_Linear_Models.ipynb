{
 "cells": [
  {
   "cell_type": "markdown",
   "id": "95a7dd4d",
   "metadata": {},
   "source": [
    "# ML Algorithm Insight Series\n",
    "## Module: Linear Models"
   ]
  },
  {
   "cell_type": "markdown",
   "id": "be081f73",
   "metadata": {},
   "source": [
    "### 1. Introduction & Intuition\n",
    "\n",
    "Linear models offer a foundational technique in machine learning for understanding relationships between input features and a continuous or categorical target. Imagine drawing a straight line through a cloud of points — the goal is to find the line that best represents the trend in the data.\n",
    "\n",
    "Just like estimating a person's income based on years of education, linear models use weighted sums of inputs to estimate outcomes. This approach remains effective, interpretable, and scalable — especially in domains where understanding how the model works is as important as the prediction itself.\n"
   ]
  },
  {
   "cell_type": "markdown",
   "id": "633147e2",
   "metadata": {},
   "source": [
    "### 2. How the Algorithm Works\n",
    "\n",
    "At the core, a linear regression model assumes that the relationship between the target \\( y \\) and the inputs \\( x_i \\) is linear:\n",
    "\n",
    "\\[\n",
    "\\hat{y} = \\theta_0 + \\theta_1 x_1 + \\theta_2 x_2 + \\cdots + \\theta_n x_n\n",
    "\\]\n",
    "\n",
    "The model aims to find the parameter vector \\( \\theta \\) that minimizes the difference between predicted and true values. This is achieved by minimizing a cost function such as Mean Squared Error (MSE):\n",
    "\n",
    "\\[\n",
    "J(\\theta) = \\frac{1}{m} \\sum_{i=1}^{m} (\\hat{y}^{(i)} - y^{(i)})^2\n",
    "\\]\n",
    "\n",
    "The coefficients \\( \\theta \\) are estimated using methods such as:\n",
    "- Ordinary Least Squares (OLS)\n",
    "- Gradient Descent\n",
    "- Regularization techniques (e.g., Ridge, Lasso)\n"
   ]
  },
  {
   "cell_type": "markdown",
   "id": "a4d10d43",
   "metadata": {},
   "source": [
    "### 3. Data and Preparation Insights"
   ]
  },
  {
   "cell_type": "code",
   "execution_count": null,
   "id": "9d39cca6",
   "metadata": {},
   "outputs": [],
   "source": [
    "import numpy as np\n",
    "import pandas as pd\n",
    "import matplotlib.pyplot as plt\n",
    "\n",
    "np.random.seed(42)\n",
    "X = np.random.rand(100, 1) * 10\n",
    "y = 3.5 * X.squeeze() + 5 + np.random.randn(100) * 2\n",
    "\n",
    "plt.scatter(X, y, color='steelblue')\n",
    "plt.title(\"Synthetic Data: Linear Trend with Noise\")\n",
    "plt.xlabel(\"X\")\n",
    "plt.ylabel(\"y\")\n",
    "plt.grid(True)\n",
    "plt.show()"
   ]
  },
  {
   "cell_type": "markdown",
   "id": "fd92e7bf",
   "metadata": {},
   "source": [
    "Normalize features, address multicollinearity using VIF, and remove outliers to ensure a stable model."
   ]
  },
  {
   "cell_type": "markdown",
   "id": "b1b5ebed",
   "metadata": {},
   "source": [
    "### 4. Implementation Highlights"
   ]
  },
  {
   "cell_type": "code",
   "execution_count": null,
   "id": "08b7ffd6",
   "metadata": {},
   "outputs": [],
   "source": [
    "from sklearn.linear_model import LinearRegression\n",
    "from sklearn.model_selection import train_test_split\n",
    "from sklearn.metrics import mean_squared_error, r2_score\n",
    "\n",
    "X_train, X_test, y_train, y_test = train_test_split(X, y, test_size=0.2)\n",
    "\n",
    "model = LinearRegression()\n",
    "model.fit(X_train, y_train)\n",
    "\n",
    "y_pred = model.predict(X_test)\n",
    "\n",
    "print(f\"Intercept: {model.intercept_:.2f}\")\n",
    "print(f\"Coefficient: {model.coef_[0]:.2f}\")"
   ]
  },
  {
   "cell_type": "markdown",
   "id": "4f5716da",
   "metadata": {},
   "source": [
    "### 5. Insightful Visualization"
   ]
  },
  {
   "cell_type": "code",
   "execution_count": null,
   "id": "a3502654",
   "metadata": {},
   "outputs": [],
   "source": [
    "plt.scatter(X_test, y_test, label=\"Actual\", alpha=0.7)\n",
    "plt.plot(X_test, y_pred, color='red', linewidth=2, label=\"Prediction\")\n",
    "plt.title(\"Model Fit\")\n",
    "plt.xlabel(\"X\")\n",
    "plt.ylabel(\"y\")\n",
    "plt.legend()\n",
    "plt.grid(True)\n",
    "plt.show()"
   ]
  },
  {
   "cell_type": "markdown",
   "id": "b46ad074",
   "metadata": {},
   "source": [
    "If residuals show a pattern, model assumptions may be violated."
   ]
  },
  {
   "cell_type": "markdown",
   "id": "bd41fcb6",
   "metadata": {},
   "source": [
    "### 6. Algorithm Evaluation"
   ]
  },
  {
   "cell_type": "code",
   "execution_count": null,
   "id": "1531cdad",
   "metadata": {},
   "outputs": [],
   "source": [
    "mse = mean_squared_error(y_test, y_pred)\n",
    "r2 = r2_score(y_test, y_pred)\n",
    "\n",
    "print(f\"MSE: {mse:.2f}\")\n",
    "print(f\"R²: {r2:.2f}\")"
   ]
  },
  {
   "cell_type": "markdown",
   "id": "a92e6d00",
   "metadata": {},
   "source": [
    "### 7. Pros, Cons, and Techniques\n",
    "\n",
    "**Strengths:**\n",
    "- Simple and fast\n",
    "- Easily interpretable coefficients\n",
    "- Useful as a baseline model\n",
    "\n",
    "**Limitations:**\n",
    "- Struggles with non-linear relationships\n",
    "- Sensitive to outliers and collinearity\n",
    "\n",
    "**Enhancements:**\n",
    "- Polynomial Features\n",
    "- Ridge/Lasso\n",
    "- RANSACRegressor\n"
   ]
  },
  {
   "cell_type": "markdown",
   "id": "ba1aa083",
   "metadata": {},
   "source": [
    "### 8. Further Explorations\n",
    "\n",
    "- TODO: Compare Ridge vs Lasso regularization\n",
    "- TODO: Visualize multicollinearity impact using VIF\n",
    "- TODO: Introduce non-linearity with polynomial regression\n"
   ]
  },
  {
   "cell_type": "markdown",
   "id": "c80584af",
   "metadata": {},
   "source": [
    "### 9. Summary & Resources\n",
    "\n",
    "**Key Insights:**\n",
    "- Linear models are powerful due to simplicity and clarity.\n",
    "- Proper data checks are critical to their success.\n",
    "- Performance can be boosted with regularization or feature engineering.\n",
    "\n",
    "**Further Reading:**\n",
    "- “The Elements of Statistical Learning” – Hastie, Tibshirani, Friedman\n",
    "- Scikit-learn Documentation: Linear Models\n",
    "- Kuhn & Johnson - Applied Predictive Modeling\n",
    "\n",
    "**Notebook Repo**: (add your GitHub link)  \n",
    "**Companion Article**: (add Medium/Substack link)\n"
   ]
  }
 ],
 "metadata": {},
 "nbformat": 4,
 "nbformat_minor": 5
}
