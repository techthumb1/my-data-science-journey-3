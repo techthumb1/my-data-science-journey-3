{
 "cells": [
  {
   "cell_type": "markdown",
   "id": "c213210b",
   "metadata": {},
   "source": [
    "# ML Algorithm Insight Series\n",
    "## Module: Convolutional Neural Networks"
   ]
  },
  {
   "cell_type": "markdown",
   "id": "ba57e394",
   "metadata": {},
   "source": [
    "### 1. Introduction & Intuition\n",
    "\n",
    "Convolutional Neural Networks (CNNs) are tailored for image data. Instead of analyzing raw pixel inputs directly, CNNs scan images using learnable filters, detecting spatial hierarchies like edges, shapes, and textures.\n",
    "\n",
    "Visualize a CNN as a sliding magnifying glass scanning an image for features. Each convolution layer acts as a pattern detector that becomes more abstract with depth.\n"
   ]
  },
  {
   "cell_type": "markdown",
   "id": "fa0b5817",
   "metadata": {},
   "source": [
    "### 2. How the Algorithm Works\n",
    "\n",
    "A CNN typically includes:\n",
    "- **Convolutional layers**: Learn spatial features using filters.\n",
    "- **Activation functions**: Introduce non-linearity (ReLU).\n",
    "- **Pooling layers**: Downsample feature maps, reducing spatial size.\n",
    "- **Fully connected layers**: Perform final classification based on learned features.\n",
    "\n",
    "Convolution operation:\n",
    "\\[\n",
    "Z_{i,j}^{(k)} = (X * W^{(k)})_{i,j} + b^{(k)}\n",
    "\\]\n",
    "\n",
    "Where:\n",
    "- \\( * \\): convolution operator\n",
    "- \\( W^{(k)} \\): filter for the \\( k^{th} \\) channel\n",
    "- \\( Z_{i,j}^{(k)} \\): output feature map\n"
   ]
  },
  {
   "cell_type": "markdown",
   "id": "34c21117",
   "metadata": {},
   "source": [
    "### 3. Data and Preparation Insights"
   ]
  },
  {
   "cell_type": "code",
   "execution_count": 1,
   "id": "2db8c0ce",
   "metadata": {},
   "outputs": [
    {
     "data": {
      "image/png": "[encoded data removed]",
      "text/plain": [
       "<Figure size 600x400 with 8 Axes>"
      ]
     },
     "metadata": {},
     "output_type": "display_data"
    }
   ],
   "source": [
    "from sklearn.datasets import load_digits\n",
    "import matplotlib.pyplot as plt\n",
    "\n",
    "digits = load_digits()\n",
    "X, y = digits.images, digits.target\n",
    "\n",
    "plt.figure(figsize=(6, 4))\n",
    "for i in range(8):\n",
    "    plt.subplot(2, 4, i + 1)\n",
    "    plt.imshow(X[i], cmap='gray')\n",
    "    plt.title(f\"Label: {y[i]}\")\n",
    "    plt.axis('off')\n",
    "plt.suptitle(\"Sample Images from Digits Dataset\")\n",
    "plt.tight_layout()\n",
    "plt.show()"
   ]
  },
  {
   "cell_type": "markdown",
   "id": "37a308b4",
   "metadata": {},
   "source": [
    "CNNs require consistent image shapes. Normalize pixel values and reshape as needed. Label encoding is necessary for classification tasks."
   ]
  },
  {
   "cell_type": "markdown",
   "id": "4e4fa8e1",
   "metadata": {},
   "source": [
    "### 4. Implementation Highlights"
   ]
  },
  {
   "cell_type": "code",
   "execution_count": 2,
   "id": "620b55de",
   "metadata": {},
   "outputs": [
    {
     "name": "stderr",
     "output_type": "stream",
     "text": [
      "2025-05-23 23:34:26.578307: I tensorflow/core/platform/cpu_feature_guard.cc:210] This TensorFlow binary is optimized to use available CPU instructions in performance-critical operations.\n",
      "To enable the following instructions: AVX2 FMA, in other operations, rebuild TensorFlow with the appropriate compiler flags.\n",
      "/Users/jasonrobinson/my-data-science-journey-3/ds_journey_env/lib/python3.12/site-packages/keras/src/layers/convolutional/base_conv.py:113: UserWarning: Do not pass an `input_shape`/`input_dim` argument to a layer. When using Sequential models, prefer using an `Input(shape)` object as the first layer in the model instead.\n",
      "  super().__init__(activity_regularizer=activity_regularizer, **kwargs)\n"
     ]
    },
    {
     "data": {
      "text/plain": [
       "<keras.src.callbacks.history.History at 0x1379cb3b0>"
      ]
     },
     "execution_count": 2,
     "metadata": {},
     "output_type": "execute_result"
    }
   ],
   "source": [
    "from tensorflow.keras.models import Sequential\n",
    "from tensorflow.keras.layers import Conv2D, MaxPooling2D, Flatten, Dense\n",
    "from tensorflow.keras.utils import to_categorical\n",
    "from sklearn.model_selection import train_test_split\n",
    "\n",
    "X = X / 16.0  # normalize\n",
    "X = X.reshape(-1, 8, 8, 1)\n",
    "y = to_categorical(y)\n",
    "\n",
    "X_train, X_test, y_train, y_test = train_test_split(X, y, test_size=0.2, random_state=42)\n",
    "\n",
    "model = Sequential([\n",
    "    Conv2D(16, kernel_size=(3, 3), activation='relu', input_shape=(8, 8, 1)),\n",
    "    MaxPooling2D(pool_size=(2, 2)),\n",
    "    Flatten(),\n",
    "    Dense(32, activation='relu'),\n",
    "    Dense(10, activation='softmax')\n",
    "])\n",
    "\n",
    "model.compile(optimizer='adam', loss='categorical_crossentropy', metrics=['accuracy'])\n",
    "model.fit(X_train, y_train, epochs=10, batch_size=16, verbose=0)\n"
   ]
  },
  {
   "cell_type": "markdown",
   "id": "230e3901",
   "metadata": {},
   "source": [
    "### 5. Insightful Visualization"
   ]
  },
  {
   "cell_type": "code",
   "execution_count": 3,
   "id": "124803dd",
   "metadata": {},
   "outputs": [
    {
     "name": "stdout",
     "output_type": "stream",
     "text": [
      "Test Accuracy: 0.96\n"
     ]
    }
   ],
   "source": [
    "loss, acc = model.evaluate(X_test, y_test, verbose=0)\n",
    "print(f\"Test Accuracy: {acc:.2f}\")"
   ]
  },
  {
   "cell_type": "markdown",
   "id": "783e049f",
   "metadata": {},
   "source": [
    "Visualize feature maps or convolution filters to understand what the model is learning at different layers."
   ]
  },
  {
   "cell_type": "markdown",
   "id": "25815b4e",
   "metadata": {},
   "source": [
    "### 6. Algorithm Evaluation"
   ]
  },
  {
   "cell_type": "code",
   "execution_count": 4,
   "id": "bf0c7ff7",
   "metadata": {},
   "outputs": [
    {
     "name": "stdout",
     "output_type": "stream",
     "text": [
      "\u001b[1m12/12\u001b[0m \u001b[32m━━━━━━━━━━━━━━━━━━━━\u001b[0m\u001b[37m\u001b[0m \u001b[1m0s\u001b[0m 8ms/step\n",
      "              precision    recall  f1-score   support\n",
      "\n",
      "           0       1.00      1.00      1.00        33\n",
      "           1       1.00      0.93      0.96        28\n",
      "           2       0.94      0.97      0.96        33\n",
      "           3       0.97      0.94      0.96        34\n",
      "           4       0.96      1.00      0.98        46\n",
      "           5       0.96      0.96      0.96        47\n",
      "           6       0.97      0.97      0.97        35\n",
      "           7       1.00      0.97      0.99        34\n",
      "           8       0.88      1.00      0.94        30\n",
      "           9       0.95      0.88      0.91        40\n",
      "\n",
      "    accuracy                           0.96       360\n",
      "   macro avg       0.96      0.96      0.96       360\n",
      "weighted avg       0.96      0.96      0.96       360\n",
      "\n"
     ]
    }
   ],
   "source": [
    "import numpy as np\n",
    "y_pred = np.argmax(model.predict(X_test), axis=1)\n",
    "y_true = np.argmax(y_test, axis=1)\n",
    "\n",
    "from sklearn.metrics import classification_report\n",
    "print(classification_report(y_true, y_pred))"
   ]
  },
  {
   "cell_type": "markdown",
   "id": "213cee97",
   "metadata": {},
   "source": [
    "### 7. Pros, Cons, and Techniques\n",
    "\n",
    "**Strengths:**\n",
    "- Exceptional at extracting spatial features from images\n",
    "- Fewer parameters than fully connected networks\n",
    "- Translation invariant\n",
    "\n",
    "**Limitations:**\n",
    "- Requires substantial data for training\n",
    "- Less effective for non-image tasks\n",
    "- Interpretability can be limited\n",
    "\n",
    "**Enhancements**:\n",
    "- Use data augmentation for robustness\n",
    "- Add dropout or batch normalization\n",
    "- Explore deeper architectures (e.g., VGG, ResNet)\n"
   ]
  },
  {
   "cell_type": "markdown",
   "id": "945553b0",
   "metadata": {},
   "source": [
    "### 8. Further Explorations\n",
    "\n",
    "- TODO: Visualize activation maps for different layers\n",
    "- TODO: Experiment with deeper CNN architectures\n",
    "- TODO: Apply to other image datasets (e.g., MNIST, CIFAR)\n"
   ]
  },
  {
   "cell_type": "markdown",
   "id": "165d9a66",
   "metadata": {},
   "source": [
    "### 9. Summary & Resources\n",
    "\n",
    "**Key Insights:**\n",
    "- CNNs process image data using convolution and pooling operations.\n",
    "- They're effective in capturing local and abstract patterns.\n",
    "- Best used in visual recognition tasks with structured input.\n",
    "\n",
    "**Further Reading:**\n",
    "- “Deep Learning” – Goodfellow, Bengio, Courville\n",
    "- Keras/TensorFlow Documentation: Conv2D, MaxPooling2D\n",
    "- Lecun et al. (1998) - Gradient-Based Learning Applied to Document Recognition\n",
    "\n",
    "**Notebook Repo**: (add your GitHub link)  \n",
    "**Companion Article**: (add Medium/Substack link)\n"
   ]
  }
 ],
 "metadata": {
  "kernelspec": {
   "display_name": "ds_journey_env",
   "language": "python",
   "name": "python3"
  },
  "language_info": {
   "codemirror_mode": {
    "name": "ipython",
    "version": 3
   },
   "file_extension": ".py",
   "mimetype": "text/x-python",
   "name": "python",
   "nbconvert_exporter": "python",
   "pygments_lexer": "ipython3",
   "version": "3.12.0"
  }
 },
 "nbformat": 4,
 "nbformat_minor": 5
}
