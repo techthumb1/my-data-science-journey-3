{
 "cells": [
  {
   "cell_type": "markdown",
   "id": "bd3e5b7a",
   "metadata": {},
   "source": [
    "# ML Algorithm Insight Series\n",
    "## Module: Bayesian Models (Naive Bayes, Bayesian Networks)"
   ]
  },
  {
   "cell_type": "markdown",
   "id": "1408e281",
   "metadata": {},
   "source": [
    "### 1. Introduction & Intuition\n",
    "\n",
    "Bayesian models use probability theory to model uncertainty and infer outcomes based on prior knowledge. They offer transparency in decision-making by framing predictions as probabilistic inferences.\n",
    "\n",
    "Imagine a weather forecaster adjusting their predictions each day based on past observations and new data. Bayesian models operate similarly—updating beliefs in light of evidence.\n"
   ]
  },
  {
   "cell_type": "markdown",
   "id": "a52ea516",
   "metadata": {},
   "source": [
    "### 2. How the Algorithm Works\n",
    "\n",
    "**Naive Bayes**:\n",
    "- Assumes features are conditionally independent given the class.\n",
    "- Applies Bayes’ Theorem:\n",
    "\\[\n",
    "P(C \\mid X) = \\frac{P(X \\mid C) P(C)}{P(X)}\n",
    "\\]\n",
    "Where:\n",
    "- \\( P(C \\mid X) \\): posterior probability of class\n",
    "- \\( P(X \\mid C) \\): likelihood of data given class\n",
    "- \\( P(C) \\): prior probability of class\n",
    "- \\( P(X) \\): evidence (normalization constant)\n",
    "\n",
    "**Bayesian Networks**:\n",
    "- Graphical models that represent probabilistic relationships among variables.\n",
    "- Use directed acyclic graphs to encode dependencies.\n",
    "\n",
    "Joint probability from graph:\n",
    "\\[\n",
    "P(A, B, C) = P(A) P(B \\mid A) P(C \\mid B)\n",
    "\\]\n"
   ]
  },
  {
   "cell_type": "markdown",
   "id": "aa187c6d",
   "metadata": {},
   "source": [
    "### 3. Data and Preparation Insights"
   ]
  },
  {
   "cell_type": "code",
   "execution_count": null,
   "id": "af01fcda",
   "metadata": {},
   "outputs": [],
   "source": [
    "from sklearn.datasets import load_wine\n",
    "import pandas as pd\n",
    "import matplotlib.pyplot as plt\n",
    "\n",
    "data = load_wine()\n",
    "X, y = data.data, data.target\n",
    "\n",
    "plt.hist(X[:, 0], bins=20, color='steelblue', edgecolor='black')\n",
    "plt.title(\"Distribution of First Feature in Wine Dataset\")\n",
    "plt.xlabel(\"Value\")\n",
    "plt.ylabel(\"Frequency\")\n",
    "plt.grid(True)\n",
    "plt.show()"
   ]
  },
  {
   "cell_type": "markdown",
   "id": "8cd71c42",
   "metadata": {},
   "source": [
    "Naive Bayes performs best with discrete or Gaussian-distributed features. Binning continuous variables may help. Bayesian Networks often require domain knowledge."
   ]
  },
  {
   "cell_type": "markdown",
   "id": "507833e2",
   "metadata": {},
   "source": [
    "### 4. Implementation Highlights"
   ]
  },
  {
   "cell_type": "code",
   "execution_count": null,
   "id": "3d0166a1",
   "metadata": {},
   "outputs": [],
   "source": [
    "from sklearn.naive_bayes import GaussianNB\n",
    "from sklearn.model_selection import train_test_split\n",
    "from sklearn.metrics import accuracy_score\n",
    "\n",
    "X_train, X_test, y_train, y_test = train_test_split(X, y, test_size=0.3, random_state=42)\n",
    "\n",
    "nb = GaussianNB()\n",
    "nb.fit(X_train, y_train)\n",
    "y_pred = nb.predict(X_test)\n",
    "\n",
    "print(f\"Accuracy: {accuracy_score(y_test, y_pred):.2f}\")"
   ]
  },
  {
   "cell_type": "markdown",
   "id": "97b3c35f",
   "metadata": {},
   "source": [
    "### 5. Insightful Visualization"
   ]
  },
  {
   "cell_type": "code",
   "execution_count": null,
   "id": "27018556",
   "metadata": {},
   "outputs": [],
   "source": [
    "from sklearn.metrics import ConfusionMatrixDisplay\n",
    "\n",
    "ConfusionMatrixDisplay.from_estimator(nb, X_test, y_test, cmap='Blues')\n",
    "plt.title(\"Naive Bayes Confusion Matrix\")\n",
    "plt.grid(False)\n",
    "plt.show()"
   ]
  },
  {
   "cell_type": "markdown",
   "id": "db3fbf0a",
   "metadata": {},
   "source": [
    "Visualizing predictions helps identify strengths and class-specific weaknesses."
   ]
  },
  {
   "cell_type": "markdown",
   "id": "e8d476b7",
   "metadata": {},
   "source": [
    "### 6. Algorithm Evaluation"
   ]
  },
  {
   "cell_type": "code",
   "execution_count": null,
   "id": "d87f4951",
   "metadata": {},
   "outputs": [],
   "source": [
    "from sklearn.metrics import classification_report\n",
    "print(classification_report(y_test, y_pred))"
   ]
  },
  {
   "cell_type": "markdown",
   "id": "b9af9870",
   "metadata": {},
   "source": [
    "### 7. Pros, Cons, and Techniques\n",
    "\n",
    "**Naive Bayes**\n",
    "- Pros: Simple, fast, scalable, works with small data\n",
    "- Cons: Assumes independence, sensitive to feature correlation\n",
    "\n",
    "**Bayesian Networks**\n",
    "- Pros: Encodes causal structure, interpretable\n",
    "- Cons: Complex inference, requires domain knowledge\n",
    "\n",
    "**Enhancements**:\n",
    "- Feature selection or transformation to reduce correlation\n",
    "- Use histogram/binning or Gaussian assumption for continuous features\n",
    "- Explore structure learning for Bayesian Networks\n"
   ]
  },
  {
   "cell_type": "markdown",
   "id": "7b321ee8",
   "metadata": {},
   "source": [
    "### 8. Further Explorations\n",
    "\n",
    "- TODO: Try MultinomialNB on text data\n",
    "- TODO: Compare with Logistic Regression on same dataset\n",
    "- TODO: Implement a basic Bayesian Network using pgmpy\n"
   ]
  },
  {
   "cell_type": "markdown",
   "id": "7572a536",
   "metadata": {},
   "source": [
    "### 9. Summary & Resources\n",
    "\n",
    "**Key Insights:**\n",
    "- Bayesian models incorporate prior knowledge and quantify uncertainty.\n",
    "- Naive Bayes excels in simple, high-dimensional tasks.\n",
    "- Bayesian Networks model joint distributions with interpretable structure.\n",
    "\n",
    "**Further Reading:**\n",
    "- “Bayesian Reasoning and Machine Learning” – Barber\n",
    "- Scikit-learn Documentation: Naive Bayes\n",
    "- Koller & Friedman – Probabilistic Graphical Models\n",
    "\n",
    "**Notebook Repo**: (add your GitHub link)  \n",
    "**Companion Article**: (add Medium/Substack link)\n"
   ]
  }
 ],
 "metadata": {},
 "nbformat": 4,
 "nbformat_minor": 5
}
