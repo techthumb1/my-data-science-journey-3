{
 "cells": [
  {
   "cell_type": "markdown",
   "id": "9668d00a",
   "metadata": {},
   "source": [
    "# Bayesian Models: Naive Bayes and Bayesian Networks\n",
    "This notebook covers:\n",
    "- Naive Bayes (GaussianNB)\n",
    "- Bayesian Networks (using pgmpy library)"
   ]
  },
  {
   "cell_type": "code",
   "execution_count": 1,
   "id": "cb4ba616",
   "metadata": {},
   "outputs": [],
   "source": [
    "# Import libraries\n",
    "import numpy as np\n",
    "import pandas as pd\n",
    "from sklearn.datasets import load_iris\n",
    "from sklearn.model_selection import train_test_split\n",
    "from sklearn.naive_bayes import GaussianNB\n",
    "from sklearn.metrics import accuracy_score, classification_report, confusion_matrix"
   ]
  },
  {
   "cell_type": "markdown",
   "id": "85edf313",
   "metadata": {},
   "source": [
    "## Naive Bayes (GaussianNB)"
   ]
  },
  {
   "cell_type": "code",
   "execution_count": 2,
   "id": "198b4f2e",
   "metadata": {},
   "outputs": [],
   "source": [
    "# Load Iris dataset\n",
    "iris = load_iris()\n",
    "X = iris.data\n",
    "y = iris.target\n",
    "X_train, X_test, y_train, y_test = train_test_split(X, y, test_size=0.3, random_state=42)"
   ]
  },
  {
   "cell_type": "code",
   "execution_count": 3,
   "id": "bb842657",
   "metadata": {},
   "outputs": [
    {
     "name": "stdout",
     "output_type": "stream",
     "text": [
      "Accuracy: 0.9777777777777777\n",
      "\n",
      "Classification Report:\n",
      "               precision    recall  f1-score   support\n",
      "\n",
      "           0       1.00      1.00      1.00        19\n",
      "           1       1.00      0.92      0.96        13\n",
      "           2       0.93      1.00      0.96        13\n",
      "\n",
      "    accuracy                           0.98        45\n",
      "   macro avg       0.98      0.97      0.97        45\n",
      "weighted avg       0.98      0.98      0.98        45\n",
      "\n",
      "\n",
      "Confusion Matrix:\n",
      " [[19  0  0]\n",
      " [ 0 12  1]\n",
      " [ 0  0 13]]\n"
     ]
    }
   ],
   "source": [
    "# Train Gaussian Naive Bayes model\n",
    "nb = GaussianNB()\n",
    "nb.fit(X_train, y_train)\n",
    "y_pred = nb.predict(X_test)\n",
    "\n",
    "print('Accuracy:', accuracy_score(y_test, y_pred))\n",
    "print('\\nClassification Report:\\n', classification_report(y_test, y_pred))\n",
    "print('\\nConfusion Matrix:\\n', confusion_matrix(y_test, y_pred))"
   ]
  },
  {
   "cell_type": "markdown",
   "id": "468044dd",
   "metadata": {},
   "source": [
    "## Bayesian Networks (with pgmpy)"
   ]
  },
  {
   "cell_type": "code",
   "execution_count": 4,
   "id": "aa2cd8ff",
   "metadata": {},
   "outputs": [],
   "source": [
    "# If pgmpy is not installed, uncomment the line below\n",
    "# !pip install pgmpy"
   ]
  },
  {
   "cell_type": "code",
   "execution_count": 5,
   "id": "646d5d72",
   "metadata": {},
   "outputs": [
    {
     "name": "stderr",
     "output_type": "stream",
     "text": [
      "/Users/jasonrobinson/my-data-science-journey-3/ds_journey_env/lib/python3.12/site-packages/tqdm/auto.py:21: TqdmWarning: IProgress not found. Please update jupyter and ipywidgets. See https://ipywidgets.readthedocs.io/en/stable/user_install.html\n",
      "  from .autonotebook import tqdm as notebook_tqdm\n"
     ]
    }
   ],
   "source": [
    "from pgmpy.models import BayesianModel\n",
    "from pgmpy.estimators import MaximumLikelihoodEstimator\n",
    "from pgmpy.inference import VariableElimination\n",
    "\n",
    "# Create a toy dataset\n",
    "data = pd.DataFrame(data={\n",
    "    'Cloudy': np.random.choice(['T', 'F'], size=100),\n",
    "    'Sprinkler': np.random.choice(['T', 'F'], size=100),\n",
    "    'Rain': np.random.choice(['T', 'F'], size=100),\n",
    "    'WetGrass': np.random.choice(['T', 'F'], size=100)\n",
    "})"
   ]
  },
  {
   "cell_type": "code",
   "execution_count": 6,
   "id": "84037798",
   "metadata": {},
   "outputs": [
    {
     "name": "stderr",
     "output_type": "stream",
     "text": [
      "/Users/jasonrobinson/my-data-science-journey-3/ds_journey_env/lib/python3.12/site-packages/pgmpy/models/BayesianModel.py:8: FutureWarning: BayesianModel has been renamed to BayesianNetwork. Please use BayesianNetwork class, BayesianModel will be removed in future.\n",
      "  warnings.warn(\n"
     ]
    }
   ],
   "source": [
    "# Define the structure of the Bayesian Network\n",
    "model = BayesianModel([('Cloudy', 'Sprinkler'),\n",
    "                       ('Cloudy', 'Rain'),\n",
    "                       ('Sprinkler', 'WetGrass'),\n",
    "                       ('Rain', 'WetGrass')])\n",
    "\n",
    "# Estimate parameters using MLE\n",
    "model.fit(data, estimator=MaximumLikelihoodEstimator)"
   ]
  },
  {
   "cell_type": "code",
   "execution_count": 7,
   "id": "2fac79ad",
   "metadata": {},
   "outputs": [
    {
     "name": "stdout",
     "output_type": "stream",
     "text": [
      "+-------------+-----------------+\n",
      "| WetGrass    |   phi(WetGrass) |\n",
      "+=============+=================+\n",
      "| WetGrass(F) |          0.4369 |\n",
      "+-------------+-----------------+\n",
      "| WetGrass(T) |          0.5631 |\n",
      "+-------------+-----------------+\n"
     ]
    },
    {
     "name": "stderr",
     "output_type": "stream",
     "text": [
      "/Users/jasonrobinson/my-data-science-journey-3/ds_journey_env/lib/python3.12/site-packages/pgmpy/models/BayesianModel.py:8: FutureWarning: BayesianModel has been renamed to BayesianNetwork. Please use BayesianNetwork class, BayesianModel will be removed in future.\n",
      "  warnings.warn(\n"
     ]
    }
   ],
   "source": [
    "# Perform inference\n",
    "infer = VariableElimination(model)\n",
    "posterior = infer.query(['WetGrass'], evidence={'Rain': 'T'})\n",
    "print(posterior)"
   ]
  }
 ],
 "metadata": {
  "kernelspec": {
   "display_name": "ds_journey_env",
   "language": "python",
   "name": "python3"
  },
  "language_info": {
   "codemirror_mode": {
    "name": "ipython",
    "version": 3
   },
   "file_extension": ".py",
   "mimetype": "text/x-python",
   "name": "python",
   "nbconvert_exporter": "python",
   "pygments_lexer": "ipython3",
   "version": "3.12.0"
  }
 },
 "nbformat": 4,
 "nbformat_minor": 5
}
